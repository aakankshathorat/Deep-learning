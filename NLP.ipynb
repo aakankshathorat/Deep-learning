{
 "cells": [
  {
   "cell_type": "code",
   "execution_count": 87,
   "id": "ec3aadfd",
   "metadata": {},
   "outputs": [
    {
     "name": "stdout",
     "output_type": "stream",
     "text": [
      "Requirement already satisfied: spacy in c:\\users\\hp\\anaconda3\\lib\\site-packages (3.6.1)\n",
      "Requirement already satisfied: catalogue<2.1.0,>=2.0.6 in c:\\users\\hp\\anaconda3\\lib\\site-packages (from spacy) (2.0.9)\n",
      "Requirement already satisfied: langcodes<4.0.0,>=3.2.0 in c:\\users\\hp\\anaconda3\\lib\\site-packages (from spacy) (3.3.0)\n",
      "Requirement already satisfied: thinc<8.2.0,>=8.1.8 in c:\\users\\hp\\anaconda3\\lib\\site-packages (from spacy) (8.1.12)\n",
      "Requirement already satisfied: typer<0.10.0,>=0.3.0 in c:\\users\\hp\\anaconda3\\lib\\site-packages (from spacy) (0.9.0)\n",
      "Requirement already satisfied: srsly<3.0.0,>=2.4.3 in c:\\users\\hp\\anaconda3\\lib\\site-packages (from spacy) (2.4.7)\n",
      "Requirement already satisfied: tqdm<5.0.0,>=4.38.0 in c:\\users\\hp\\anaconda3\\lib\\site-packages (from spacy) (4.64.0)\n",
      "Requirement already satisfied: smart-open<7.0.0,>=5.2.1 in c:\\users\\hp\\anaconda3\\lib\\site-packages (from spacy) (6.3.0)\n",
      "Requirement already satisfied: jinja2 in c:\\users\\hp\\anaconda3\\lib\\site-packages (from spacy) (2.11.3)\n",
      "Requirement already satisfied: packaging>=20.0 in c:\\users\\hp\\anaconda3\\lib\\site-packages (from spacy) (21.3)\n",
      "Requirement already satisfied: cymem<2.1.0,>=2.0.2 in c:\\users\\hp\\anaconda3\\lib\\site-packages (from spacy) (2.0.7)\n",
      "Requirement already satisfied: numpy>=1.15.0 in c:\\users\\hp\\anaconda3\\lib\\site-packages (from spacy) (1.22.4)\n",
      "Requirement already satisfied: spacy-legacy<3.1.0,>=3.0.11 in c:\\users\\hp\\anaconda3\\lib\\site-packages (from spacy) (3.0.12)\n",
      "Requirement already satisfied: spacy-loggers<2.0.0,>=1.0.0 in c:\\users\\hp\\anaconda3\\lib\\site-packages (from spacy) (1.0.4)\n",
      "Requirement already satisfied: pydantic!=1.8,!=1.8.1,<3.0.0,>=1.7.4 in c:\\users\\hp\\anaconda3\\lib\\site-packages (from spacy) (2.2.1)\n",
      "Requirement already satisfied: setuptools in c:\\users\\hp\\anaconda3\\lib\\site-packages (from spacy) (61.2.0)\n",
      "Requirement already satisfied: requests<3.0.0,>=2.13.0 in c:\\users\\hp\\anaconda3\\lib\\site-packages (from spacy) (2.27.1)\n",
      "Requirement already satisfied: wasabi<1.2.0,>=0.9.1 in c:\\users\\hp\\anaconda3\\lib\\site-packages (from spacy) (1.1.2)\n",
      "Requirement already satisfied: preshed<3.1.0,>=3.0.2 in c:\\users\\hp\\anaconda3\\lib\\site-packages (from spacy) (3.0.8)\n",
      "Requirement already satisfied: pathy>=0.10.0 in c:\\users\\hp\\anaconda3\\lib\\site-packages (from spacy) (0.10.2)\n",
      "Requirement already satisfied: murmurhash<1.1.0,>=0.28.0 in c:\\users\\hp\\anaconda3\\lib\\site-packages (from spacy) (1.0.9)\n",
      "Requirement already satisfied: pyparsing!=3.0.5,>=2.0.2 in c:\\users\\hp\\anaconda3\\lib\\site-packages (from packaging>=20.0->spacy) (3.0.4)\n",
      "Requirement already satisfied: annotated-types>=0.4.0 in c:\\users\\hp\\anaconda3\\lib\\site-packages (from pydantic!=1.8,!=1.8.1,<3.0.0,>=1.7.4->spacy) (0.5.0)\n",
      "Requirement already satisfied: typing-extensions>=4.6.1 in c:\\users\\hp\\anaconda3\\lib\\site-packages (from pydantic!=1.8,!=1.8.1,<3.0.0,>=1.7.4->spacy) (4.7.1)\n",
      "Requirement already satisfied: pydantic-core==2.6.1 in c:\\users\\hp\\anaconda3\\lib\\site-packages (from pydantic!=1.8,!=1.8.1,<3.0.0,>=1.7.4->spacy) (2.6.1)\n",
      "Requirement already satisfied: urllib3<1.27,>=1.21.1 in c:\\users\\hp\\anaconda3\\lib\\site-packages (from requests<3.0.0,>=2.13.0->spacy) (1.26.9)\n",
      "Requirement already satisfied: idna<4,>=2.5 in c:\\users\\hp\\anaconda3\\lib\\site-packages (from requests<3.0.0,>=2.13.0->spacy) (3.3)\n",
      "Requirement already satisfied: certifi>=2017.4.17 in c:\\users\\hp\\anaconda3\\lib\\site-packages (from requests<3.0.0,>=2.13.0->spacy) (2021.10.8)\n",
      "Requirement already satisfied: charset-normalizer~=2.0.0 in c:\\users\\hp\\anaconda3\\lib\\site-packages (from requests<3.0.0,>=2.13.0->spacy) (2.0.4)\n",
      "Requirement already satisfied: confection<1.0.0,>=0.0.1 in c:\\users\\hp\\anaconda3\\lib\\site-packages (from thinc<8.2.0,>=8.1.8->spacy) (0.1.1)\n",
      "Requirement already satisfied: blis<0.8.0,>=0.7.8 in c:\\users\\hp\\anaconda3\\lib\\site-packages (from thinc<8.2.0,>=8.1.8->spacy) (0.7.10)\n",
      "Requirement already satisfied: colorama in c:\\users\\hp\\anaconda3\\lib\\site-packages (from tqdm<5.0.0,>=4.38.0->spacy) (0.4.6)\n",
      "Requirement already satisfied: click<9.0.0,>=7.1.1 in c:\\users\\hp\\anaconda3\\lib\\site-packages (from typer<0.10.0,>=0.3.0->spacy) (8.0.4)\n",
      "Requirement already satisfied: MarkupSafe>=0.23 in c:\\users\\hp\\anaconda3\\lib\\site-packages (from jinja2->spacy) (2.0.1)\n"
     ]
    }
   ],
   "source": [
    "!pip install spacy  "
   ]
  },
  {
   "cell_type": "code",
   "execution_count": 88,
   "id": "947e3ca6",
   "metadata": {},
   "outputs": [],
   "source": [
    "import spacy"
   ]
  },
  {
   "cell_type": "code",
   "execution_count": 89,
   "id": "fce325c1",
   "metadata": {},
   "outputs": [],
   "source": [
    "nlp =spacy.load('en_core_web_sm')"
   ]
  },
  {
   "cell_type": "raw",
   "id": "88269226",
   "metadata": {},
   "source": [
    "large taxt data than we perform"
   ]
  },
  {
   "cell_type": "code",
   "execution_count": 90,
   "id": "2eea2850",
   "metadata": {},
   "outputs": [],
   "source": [
    "s=\"\"\"Construction began on 5 August 1956, according to the plans drawn up by the architects Trần Văn Đường and Đỗ Bá Vinh, while the directing engineers were Dư Ngọc Ánh and Hồ Tố Thuận.\n",
    "     The pagoda was opened on 2 May 1958,\n",
    "     by the Most Venerable Thich Khanh Anh\"\"\""
   ]
  },
  {
   "cell_type": "code",
   "execution_count": 91,
   "id": "b16a1513",
   "metadata": {},
   "outputs": [
    {
     "data": {
      "text/plain": [
       "'Construction began on 5 August 1956, according to the plans drawn up by the architects Trần Văn Đường and Đỗ Bá Vinh, while the directing engineers were Dư Ngọc Ánh and Hồ Tố Thuận.\\n     The pagoda was opened on 2 May 1958,\\n     by the Most Venerable Thich Khanh Anh'"
      ]
     },
     "execution_count": 91,
     "metadata": {},
     "output_type": "execute_result"
    }
   ],
   "source": [
    "s"
   ]
  },
  {
   "cell_type": "code",
   "execution_count": 92,
   "id": "5d579bd9",
   "metadata": {},
   "outputs": [
    {
     "data": {
      "text/plain": [
       "['Construction began on 5 August 1956, according to the plans drawn up by the architects Trần Văn Đường and Đỗ Bá Vinh, while the directing engineers were Dư Ngọc Ánh and Hồ Tố Thuận',\n",
       " '\\n     The pagoda was opened on 2 May 1958,\\n     by the Most Venerable Thich Khanh Anh']"
      ]
     },
     "execution_count": 92,
     "metadata": {},
     "output_type": "execute_result"
    }
   ],
   "source": [
    "s.split(\".\")"
   ]
  },
  {
   "cell_type": "markdown",
   "id": "0e9434bf",
   "metadata": {},
   "source": [
    "we want to seprate the sentence"
   ]
  },
  {
   "cell_type": "code",
   "execution_count": 93,
   "id": "0071a3ff",
   "metadata": {},
   "outputs": [],
   "source": [
    "s = \"Dr. akshu have a degree in ABCD . she is also work in laptop campany\""
   ]
  },
  {
   "cell_type": "code",
   "execution_count": 94,
   "id": "ebac7606",
   "metadata": {},
   "outputs": [],
   "source": [
    "doc= nlp(\"Dr.akshu have a degree in ABCD . she is also work in laptop campany\")"
   ]
  },
  {
   "cell_type": "markdown",
   "id": "57392701",
   "metadata": {},
   "source": [
    "convert in sentence"
   ]
  },
  {
   "cell_type": "code",
   "execution_count": 95,
   "id": "a19c1f99",
   "metadata": {},
   "outputs": [
    {
     "data": {
      "text/plain": [
       "<generator at 0x2bd3efbfa40>"
      ]
     },
     "execution_count": 95,
     "metadata": {},
     "output_type": "execute_result"
    }
   ],
   "source": [
    "doc.sents"
   ]
  },
  {
   "cell_type": "code",
   "execution_count": 96,
   "id": "c32d7dc3",
   "metadata": {},
   "outputs": [
    {
     "name": "stdout",
     "output_type": "stream",
     "text": [
      "Dr.akshu have a degree in ABCD .\n",
      "she is also work in laptop campany\n"
     ]
    }
   ],
   "source": [
    "for i in doc.sents:\n",
    "    print(i)"
   ]
  },
  {
   "cell_type": "code",
   "execution_count": 97,
   "id": "1ad67244",
   "metadata": {},
   "outputs": [
    {
     "name": "stdout",
     "output_type": "stream",
     "text": [
      "Dr.akshu\n",
      "have\n",
      "a\n",
      "degree\n",
      "in\n",
      "ABCD\n",
      ".\n",
      "she\n",
      "is\n",
      "also\n",
      "work\n",
      "in\n",
      "laptop\n",
      "campany\n"
     ]
    }
   ],
   "source": [
    "for i in doc.sents:\n",
    "    for word in i:\n",
    "        print(word)"
   ]
  },
  {
   "cell_type": "code",
   "execution_count": 98,
   "id": "066ef009",
   "metadata": {},
   "outputs": [],
   "source": [
    "doc = nlp(s)"
   ]
  },
  {
   "cell_type": "code",
   "execution_count": 99,
   "id": "0f936b0d",
   "metadata": {},
   "outputs": [
    {
     "name": "stdout",
     "output_type": "stream",
     "text": [
      "Dr. akshu have a degree in ABCD .\n",
      "she is also work in laptop campany\n"
     ]
    }
   ],
   "source": [
    "for i in doc.sents:\n",
    "    print(i)"
   ]
  },
  {
   "cell_type": "code",
   "execution_count": 100,
   "id": "3ad81449",
   "metadata": {},
   "outputs": [
    {
     "data": {
      "text/plain": [
       "spacy.tokens.doc.Doc"
      ]
     },
     "execution_count": 100,
     "metadata": {},
     "output_type": "execute_result"
    }
   ],
   "source": [
    "type(doc)"
   ]
  },
  {
   "cell_type": "code",
   "execution_count": 101,
   "id": "57f67001",
   "metadata": {},
   "outputs": [
    {
     "name": "stdout",
     "output_type": "stream",
     "text": [
      "Requirement already satisfied: nltk in c:\\users\\hp\\anaconda3\\lib\\site-packages (3.7)\n",
      "Requirement already satisfied: regex>=2021.8.3 in c:\\users\\hp\\anaconda3\\lib\\site-packages (from nltk) (2022.3.15)\n",
      "Requirement already satisfied: tqdm in c:\\users\\hp\\anaconda3\\lib\\site-packages (from nltk) (4.64.0)\n",
      "Requirement already satisfied: joblib in c:\\users\\hp\\anaconda3\\lib\\site-packages (from nltk) (1.3.1)\n",
      "Requirement already satisfied: click in c:\\users\\hp\\anaconda3\\lib\\site-packages (from nltk) (8.0.4)\n",
      "Requirement already satisfied: colorama in c:\\users\\hp\\anaconda3\\lib\\site-packages (from click->nltk) (0.4.6)\n"
     ]
    }
   ],
   "source": [
    "!pip install nltk"
   ]
  },
  {
   "cell_type": "code",
   "execution_count": 102,
   "id": "4f253528",
   "metadata": {},
   "outputs": [],
   "source": [
    "import nltk"
   ]
  },
  {
   "cell_type": "code",
   "execution_count": 103,
   "id": "2fbd5a06",
   "metadata": {},
   "outputs": [
    {
     "name": "stderr",
     "output_type": "stream",
     "text": [
      "[nltk_data] Downloading package punkt to\n",
      "[nltk_data]     C:\\Users\\HP\\AppData\\Roaming\\nltk_data...\n",
      "[nltk_data]   Package punkt is already up-to-date!\n"
     ]
    },
    {
     "data": {
      "text/plain": [
       "True"
      ]
     },
     "execution_count": 103,
     "metadata": {},
     "output_type": "execute_result"
    }
   ],
   "source": [
    "nltk.download(\"punkt\")"
   ]
  },
  {
   "cell_type": "markdown",
   "id": "87f2c1cd",
   "metadata": {},
   "source": [
    "split into sentence"
   ]
  },
  {
   "cell_type": "code",
   "execution_count": 104,
   "id": "366a092f",
   "metadata": {},
   "outputs": [],
   "source": [
    "from nltk.tokenize import sent_tokenize"
   ]
  },
  {
   "cell_type": "code",
   "execution_count": 105,
   "id": "dcbacd6b",
   "metadata": {},
   "outputs": [
    {
     "data": {
      "text/plain": [
       "['Dr. akshu have a degree in ABCD .', 'she is also work in laptop campany']"
      ]
     },
     "execution_count": 105,
     "metadata": {},
     "output_type": "execute_result"
    }
   ],
   "source": [
    "sent_tokenize(s)"
   ]
  },
  {
   "cell_type": "code",
   "execution_count": 106,
   "id": "94bdb5d9",
   "metadata": {},
   "outputs": [
    {
     "data": {
      "text/plain": [
       "'she is also work in laptop campany'"
      ]
     },
     "execution_count": 106,
     "metadata": {},
     "output_type": "execute_result"
    }
   ],
   "source": [
    "sent_tokenize(s)[1]"
   ]
  },
  {
   "cell_type": "code",
   "execution_count": 107,
   "id": "645030a7",
   "metadata": {},
   "outputs": [],
   "source": [
    "from nltk.tokenize import word_tokenize"
   ]
  },
  {
   "cell_type": "code",
   "execution_count": 108,
   "id": "41804bb6",
   "metadata": {},
   "outputs": [
    {
     "data": {
      "text/plain": [
       "['Dr.',\n",
       " 'akshu',\n",
       " 'have',\n",
       " 'a',\n",
       " 'degree',\n",
       " 'in',\n",
       " 'ABCD',\n",
       " '.',\n",
       " 'she',\n",
       " 'is',\n",
       " 'also',\n",
       " 'work',\n",
       " 'in',\n",
       " 'laptop',\n",
       " 'campany']"
      ]
     },
     "execution_count": 108,
     "metadata": {},
     "output_type": "execute_result"
    }
   ],
   "source": [
    "word_tokenize(s)"
   ]
  },
  {
   "cell_type": "raw",
   "id": "c7a6b676",
   "metadata": {},
   "source": [
    ".= (complete the sentence)\n",
    "@=(email id)\n",
    "$= currency"
   ]
  },
  {
   "cell_type": "code",
   "execution_count": 109,
   "id": "1e5f5fe6",
   "metadata": {},
   "outputs": [],
   "source": [
    "s = \"\"\"ms.akshu loves pizza and it cost $2 per slice \"\"\""
   ]
  },
  {
   "cell_type": "code",
   "execution_count": 110,
   "id": "a52e60a2",
   "metadata": {},
   "outputs": [],
   "source": [
    "doc = nlp(s)"
   ]
  },
  {
   "cell_type": "code",
   "execution_count": 111,
   "id": "6ba8d67b",
   "metadata": {},
   "outputs": [
    {
     "name": "stdout",
     "output_type": "stream",
     "text": [
      "ms.akshu\n",
      "loves\n",
      "pizza\n",
      "and\n",
      "it\n",
      "cost\n",
      "$\n",
      "2\n",
      "per\n",
      "slice\n"
     ]
    }
   ],
   "source": [
    "for token in doc:\n",
    "    print(token)"
   ]
  },
  {
   "cell_type": "code",
   "execution_count": 112,
   "id": "fae2a106",
   "metadata": {},
   "outputs": [],
   "source": [
    "token1 = doc[1]"
   ]
  },
  {
   "cell_type": "code",
   "execution_count": 113,
   "id": "df517a79",
   "metadata": {},
   "outputs": [
    {
     "data": {
      "text/plain": [
       "loves"
      ]
     },
     "execution_count": 113,
     "metadata": {},
     "output_type": "execute_result"
    }
   ],
   "source": [
    "token1"
   ]
  },
  {
   "cell_type": "code",
   "execution_count": 114,
   "id": "d44bff28",
   "metadata": {},
   "outputs": [
    {
     "data": {
      "text/plain": [
       "True"
      ]
     },
     "execution_count": 114,
     "metadata": {},
     "output_type": "execute_result"
    }
   ],
   "source": [
    "token1.is_alpha"
   ]
  },
  {
   "cell_type": "code",
   "execution_count": 115,
   "id": "bff7218c",
   "metadata": {},
   "outputs": [],
   "source": [
    "token6 = doc[6]"
   ]
  },
  {
   "cell_type": "code",
   "execution_count": 116,
   "id": "025bcda3",
   "metadata": {
    "scrolled": true
   },
   "outputs": [
    {
     "data": {
      "text/plain": [
       "$"
      ]
     },
     "execution_count": 116,
     "metadata": {},
     "output_type": "execute_result"
    }
   ],
   "source": [
    "token6"
   ]
  },
  {
   "cell_type": "code",
   "execution_count": 117,
   "id": "2d38cd77",
   "metadata": {},
   "outputs": [
    {
     "data": {
      "text/plain": [
       "True"
      ]
     },
     "execution_count": 117,
     "metadata": {},
     "output_type": "execute_result"
    }
   ],
   "source": [
    "token6.is_currency"
   ]
  },
  {
   "cell_type": "code",
   "execution_count": 118,
   "id": "944d3345",
   "metadata": {},
   "outputs": [],
   "source": [
    "token7 = doc[7]"
   ]
  },
  {
   "cell_type": "code",
   "execution_count": 119,
   "id": "7ca2cec5",
   "metadata": {},
   "outputs": [
    {
     "data": {
      "text/plain": [
       "2"
      ]
     },
     "execution_count": 119,
     "metadata": {},
     "output_type": "execute_result"
    }
   ],
   "source": [
    "token7"
   ]
  },
  {
   "cell_type": "code",
   "execution_count": 120,
   "id": "82550824",
   "metadata": {},
   "outputs": [
    {
     "name": "stdout",
     "output_type": "stream",
     "text": [
      "ms.akshu\n",
      "loves\n",
      "pizza\n",
      "and\n",
      "it\n",
      "cost\n",
      "$\n",
      "2\n",
      "per\n"
     ]
    }
   ],
   "source": [
    "for i in doc.sents:\n",
    "    for word in i:\n",
    "        if word.is_sent_end == False:\n",
    "            print(word)"
   ]
  },
  {
   "cell_type": "raw",
   "id": "58040440",
   "metadata": {},
   "source": [
    "lemmetization and stemming"
   ]
  },
  {
   "cell_type": "code",
   "execution_count": 121,
   "id": "121ede4e",
   "metadata": {},
   "outputs": [],
   "source": [
    "s = \"\"\"The Supermarine S.4 was a 1920s British single-engined monoplane built by Supermarine to race in the 1925 Schneider Trophy contest. \n",
    "To reduce drag forces and thereby increase speed, \n",
    "the company's chief designer, R. J. Mitchell, produced a floatplane of revolutionary design.\n",
    "Built of wood, and with an unbraced cantilever wing, it was powered by a Napier Lion engine developed to produce 700 horsepower (520 kW) over a short racing period. \n",
    "Less than a month after its maiden flight on 24 August 1925, it raised the world's seaplane speed record to 226.752 miles per hour (364.922 km/h). On 23 October, during navigation trials prior to the contest, the aircraft was performing well when, \n",
    "for reasons that have not been fully explained, it went out of control and was destroyed when it dived into the sea from 100 feet (30 m), injuring the pilot.\"\"\""
   ]
  },
  {
   "cell_type": "code",
   "execution_count": 122,
   "id": "fbc8fa56",
   "metadata": {},
   "outputs": [],
   "source": [
    "s = \"I am eating pizza now and yesterday i ata kalucha and tommorow i will eat burger\""
   ]
  },
  {
   "cell_type": "raw",
   "id": "d31a39ac",
   "metadata": {},
   "source": [
    "NLTK - stemming,lemmetization\n",
    "spacy - lemmatization"
   ]
  },
  {
   "cell_type": "code",
   "execution_count": 136,
   "id": "d46d8e50",
   "metadata": {},
   "outputs": [],
   "source": [
    "s = [\"eating\",\"eat\",\"eats\",\"ate\",\"adjustable\",\"rafting\",\"ability\",\"meeting\"]"
   ]
  },
  {
   "cell_type": "code",
   "execution_count": 137,
   "id": "ad844bab",
   "metadata": {},
   "outputs": [],
   "source": [
    "from nltk.stem import PorterStemmer"
   ]
  },
  {
   "cell_type": "code",
   "execution_count": 138,
   "id": "7de2db0c",
   "metadata": {},
   "outputs": [],
   "source": [
    "stemmer = PorterStemmer()"
   ]
  },
  {
   "cell_type": "code",
   "execution_count": 126,
   "id": "cfe5534a",
   "metadata": {},
   "outputs": [
    {
     "data": {
      "text/plain": [
       "'eat'"
      ]
     },
     "execution_count": 126,
     "metadata": {},
     "output_type": "execute_result"
    }
   ],
   "source": [
    "stemmer.stem(\"eating\")"
   ]
  },
  {
   "cell_type": "code",
   "execution_count": 127,
   "id": "77b249ae",
   "metadata": {},
   "outputs": [
    {
     "name": "stdout",
     "output_type": "stream",
     "text": [
      "eating - eat\n",
      "eat - eat\n",
      "eats - eat\n",
      "ate - ate\n",
      "adjustable - adjust\n",
      "rafting - raft\n",
      "ability - abil\n",
      "meeting - meet\n"
     ]
    }
   ],
   "source": [
    "for i in s:\n",
    "    print(i, \"-\", stemmer.stem(i))"
   ]
  },
  {
   "cell_type": "code",
   "execution_count": 128,
   "id": "24ef3204",
   "metadata": {},
   "outputs": [],
   "source": [
    "new = \"\".join(s)"
   ]
  },
  {
   "cell_type": "code",
   "execution_count": 129,
   "id": "8f18b187",
   "metadata": {},
   "outputs": [
    {
     "data": {
      "text/plain": [
       "'eatingeateatsateadjustableraftingabilitymeeting'"
      ]
     },
     "execution_count": 129,
     "metadata": {},
     "output_type": "execute_result"
    }
   ],
   "source": [
    "new"
   ]
  },
  {
   "cell_type": "code",
   "execution_count": 130,
   "id": "ac7f01e8",
   "metadata": {},
   "outputs": [],
   "source": [
    "doc = nlp(new)"
   ]
  },
  {
   "cell_type": "code",
   "execution_count": 131,
   "id": "818a5bc9",
   "metadata": {},
   "outputs": [],
   "source": [
    "s = nlp(\"farmed\")\n",
    "s1 = s[0]"
   ]
  },
  {
   "cell_type": "code",
   "execution_count": 132,
   "id": "e66f96a6",
   "metadata": {},
   "outputs": [
    {
     "data": {
      "text/plain": [
       "farmed"
      ]
     },
     "execution_count": 132,
     "metadata": {},
     "output_type": "execute_result"
    }
   ],
   "source": [
    "s1\n"
   ]
  },
  {
   "cell_type": "raw",
   "id": "a65ab024",
   "metadata": {},
   "source": [
    "id of the word then we use lemma\n"
   ]
  },
  {
   "cell_type": "code",
   "execution_count": 133,
   "id": "fa10abb7",
   "metadata": {},
   "outputs": [
    {
     "data": {
      "text/plain": [
       "15953978680795595187"
      ]
     },
     "execution_count": 133,
     "metadata": {},
     "output_type": "execute_result"
    }
   ],
   "source": [
    "s1.lemma"
   ]
  },
  {
   "cell_type": "raw",
   "id": "56fe0de0",
   "metadata": {},
   "source": [
    "lemma_ give the word"
   ]
  },
  {
   "cell_type": "code",
   "execution_count": 134,
   "id": "5f78d543",
   "metadata": {},
   "outputs": [
    {
     "data": {
      "text/plain": [
       "'farm'"
      ]
     },
     "execution_count": 134,
     "metadata": {},
     "output_type": "execute_result"
    }
   ],
   "source": [
    "s1.lemma_"
   ]
  },
  {
   "cell_type": "code",
   "execution_count": 139,
   "id": "d94f2327",
   "metadata": {},
   "outputs": [
    {
     "name": "stdout",
     "output_type": "stream",
     "text": [
      "eating - eat\n",
      "eat - eat\n",
      "eats - eat\n",
      "ate - ate\n",
      "adjustable - adjust\n",
      "rafting - raft\n",
      "ability - abil\n",
      "meeting - meet\n"
     ]
    }
   ],
   "source": [
    "for i in s:\n",
    "    print(i, \"-\", stemmer.stem(i))"
   ]
  },
  {
   "cell_type": "code",
   "execution_count": 140,
   "id": "3d8d0a77",
   "metadata": {},
   "outputs": [],
   "source": [
    "new = \" \".join(s)"
   ]
  },
  {
   "cell_type": "code",
   "execution_count": 141,
   "id": "168ae257",
   "metadata": {},
   "outputs": [],
   "source": [
    "doc= nlp(new)"
   ]
  },
  {
   "cell_type": "code",
   "execution_count": 142,
   "id": "fc418a03",
   "metadata": {},
   "outputs": [
    {
     "name": "stdout",
     "output_type": "stream",
     "text": [
      "eating - eat\n",
      "eat - eat\n",
      "eats - eat\n",
      "ate - eat\n",
      "adjustable - adjustable\n",
      "rafting - raft\n",
      "ability - ability\n",
      "meeting - meeting\n"
     ]
    }
   ],
   "source": [
    "for i in doc:\n",
    "    print(i, '-', i.lemma_)\n"
   ]
  },
  {
   "cell_type": "code",
   "execution_count": null,
   "id": "9c24dc10",
   "metadata": {},
   "outputs": [],
   "source": []
  }
 ],
 "metadata": {
  "kernelspec": {
   "display_name": "Python 3 (ipykernel)",
   "language": "python",
   "name": "python3"
  },
  "language_info": {
   "codemirror_mode": {
    "name": "ipython",
    "version": 3
   },
   "file_extension": ".py",
   "mimetype": "text/x-python",
   "name": "python",
   "nbconvert_exporter": "python",
   "pygments_lexer": "ipython3",
   "version": "3.9.12"
  }
 },
 "nbformat": 4,
 "nbformat_minor": 5
}
