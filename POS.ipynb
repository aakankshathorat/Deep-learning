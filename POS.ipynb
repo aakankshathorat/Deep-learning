{
 "cells": [
  {
   "cell_type": "raw",
   "id": "6915ad8f",
   "metadata": {},
   "source": [
    "  pos-part of speech - 8\n",
    "\n",
    "- Noun\n",
    "- Pronoun\n",
    "- verb\n",
    "- adverb\n",
    "- Adjective\n",
    "- conjuction\n",
    "- preposition\n",
    "- Interjection"
   ]
  },
  {
   "cell_type": "code",
   "execution_count": 2,
   "id": "a1354377",
   "metadata": {},
   "outputs": [],
   "source": [
    "import spacy"
   ]
  },
  {
   "cell_type": "code",
   "execution_count": 3,
   "id": "5275dfdc",
   "metadata": {},
   "outputs": [],
   "source": [
    "nlp =spacy.load('en_core_web_sm')"
   ]
  },
  {
   "cell_type": "code",
   "execution_count": 4,
   "id": "21f3d74f",
   "metadata": {},
   "outputs": [],
   "source": [
    "doc = nlp(\"akshu flew to mars yesterday.she carried burger with her\")"
   ]
  },
  {
   "cell_type": "code",
   "execution_count": 5,
   "id": "e7ea2796",
   "metadata": {},
   "outputs": [
    {
     "name": "stdout",
     "output_type": "stream",
     "text": [
      "akshu - PROPN\n",
      "flew - VERB\n",
      "to - ADP\n",
      "mars - PROPN\n",
      "yesterday.she - PRON\n",
      "carried - VERB\n",
      "burger - NOUN\n",
      "with - ADP\n",
      "her - PRON\n"
     ]
    }
   ],
   "source": [
    "for i in doc:\n",
    "    print(i,'-',i.pos_)"
   ]
  },
  {
   "cell_type": "code",
   "execution_count": 6,
   "id": "55d2365b",
   "metadata": {},
   "outputs": [
    {
     "name": "stdout",
     "output_type": "stream",
     "text": [
      "akshu - 96\n",
      "flew - 100\n",
      "to - 85\n",
      "mars - 96\n",
      "yesterday.she - 95\n",
      "carried - 100\n",
      "burger - 92\n",
      "with - 85\n",
      "her - 95\n"
     ]
    }
   ],
   "source": [
    "for i in doc:\n",
    "    print(i,'-',i.pos)"
   ]
  },
  {
   "cell_type": "raw",
   "id": "24144272",
   "metadata": {},
   "source": [
    "Explication fo pos"
   ]
  },
  {
   "cell_type": "code",
   "execution_count": 8,
   "id": "95d4c387",
   "metadata": {},
   "outputs": [
    {
     "name": "stdout",
     "output_type": "stream",
     "text": [
      "akshu - PROPN - proper noun\n",
      "flew - VERB - verb\n",
      "to - ADP - adposition\n",
      "mars - PROPN - proper noun\n",
      "yesterday.she - PRON - pronoun\n",
      "carried - VERB - verb\n",
      "burger - NOUN - noun\n",
      "with - ADP - adposition\n",
      "her - PRON - pronoun\n"
     ]
    }
   ],
   "source": [
    "for i in doc:\n",
    "    print(i,'-', i.pos_, '-' , spacy.explain(i.pos_))"
   ]
  },
  {
   "cell_type": "code",
   "execution_count": 10,
   "id": "b7a4af91",
   "metadata": {},
   "outputs": [
    {
     "name": "stdout",
     "output_type": "stream",
     "text": [
      "akshu - 96 - PROPN - proper noun\n",
      "flew - 100 - VERB - verb\n",
      "to - 85 - ADP - adposition\n",
      "mars - 96 - PROPN - proper noun\n",
      "yesterday.she - 95 - PRON - pronoun\n",
      "carried - 100 - VERB - verb\n",
      "burger - 92 - NOUN - noun\n",
      "with - 85 - ADP - adposition\n",
      "her - 95 - PRON - pronoun\n"
     ]
    }
   ],
   "source": [
    "for i in doc:\n",
    "    print(i,'-', i.pos,\"-\",i.pos_, '-' , spacy.explain(i.pos_))"
   ]
  },
  {
   "cell_type": "code",
   "execution_count": 11,
   "id": "25f4d65e",
   "metadata": {},
   "outputs": [
    {
     "name": "stdout",
     "output_type": "stream",
     "text": [
      "akshu - PROPN - proper noun - 96\n",
      "flew - VERB - verb - 100\n",
      "to - ADP - adposition - 85\n",
      "mars - PROPN - proper noun - 96\n",
      "yesterday.she - PRON - pronoun - 95\n",
      "carried - VERB - verb - 100\n",
      "burger - NOUN - noun - 92\n",
      "with - ADP - adposition - 85\n",
      "her - PRON - pronoun - 95\n"
     ]
    }
   ],
   "source": [
    "for i in doc:\n",
    "    print(i,'-', i.pos_, '-' , spacy.explain(i.pos_),\"-\",i.pos)"
   ]
  },
  {
   "cell_type": "code",
   "execution_count": 12,
   "id": "bd8b5ffb",
   "metadata": {},
   "outputs": [],
   "source": [
    "doc1 = nlp(\"wow! Dr.Strange movie has earned $45 billon dollar in ten days\")"
   ]
  },
  {
   "cell_type": "code",
   "execution_count": 15,
   "id": "2de93730",
   "metadata": {},
   "outputs": [
    {
     "name": "stdout",
     "output_type": "stream",
     "text": [
      "wow - INTJ - interjection - 91\n",
      "! - PUNCT - punctuation - 97\n",
      "Dr. - PROPN - proper noun - 96\n",
      "Strange - PROPN - proper noun - 96\n",
      "movie - NOUN - noun - 92\n",
      "has - AUX - auxiliary - 87\n",
      "earned - VERB - verb - 100\n",
      "$ - SYM - symbol - 99\n",
      "45 - NUM - numeral - 93\n",
      "billon - NOUN - noun - 92\n",
      "dollar - NOUN - noun - 92\n",
      "in - ADP - adposition - 85\n",
      "ten - NUM - numeral - 93\n",
      "days - NOUN - noun - 92\n"
     ]
    }
   ],
   "source": [
    "for i in doc1:\n",
    "    print(i,'-', i.pos_, '-' , spacy.explain(i.pos_),\"-\",i.pos)"
   ]
  },
  {
   "cell_type": "code",
   "execution_count": 16,
   "id": "9bd4d029",
   "metadata": {},
   "outputs": [
    {
     "name": "stdout",
     "output_type": "stream",
     "text": [
      "wow - INTJ - UH\n",
      "! - PUNCT - .\n",
      "Dr. - PROPN - NNP\n",
      "Strange - PROPN - NNP\n",
      "movie - NOUN - NN\n",
      "has - AUX - VBZ\n",
      "earned - VERB - VBN\n",
      "$ - SYM - $\n",
      "45 - NUM - CD\n",
      "billon - NOUN - NN\n",
      "dollar - NOUN - NN\n",
      "in - ADP - IN\n",
      "ten - NUM - CD\n",
      "days - NOUN - NNS\n"
     ]
    }
   ],
   "source": [
    "for i in doc1:\n",
    "    print(i,'-', i.pos_, '-' , i.tag_)"
   ]
  },
  {
   "cell_type": "code",
   "execution_count": 19,
   "id": "a6d04f9c",
   "metadata": {},
   "outputs": [
    {
     "name": "stdout",
     "output_type": "stream",
     "text": [
      "wow - INTJ - 3252815442139690129 - interjection\n",
      "! - PUNCT - 12646065887601541794 - punctuation mark, sentence closer\n",
      "Dr. - PROPN - 15794550382381185553 - noun, proper singular\n",
      "Strange - PROPN - 15794550382381185553 - noun, proper singular\n",
      "movie - NOUN - 15308085513773655218 - noun, singular or mass\n",
      "has - AUX - 13927759927860985106 - verb, 3rd person singular present\n",
      "earned - VERB - 3822385049556375858 - verb, past participle\n",
      "$ - SYM - 11283501755624150392 - symbol, currency\n",
      "45 - NUM - 8427216679587749980 - cardinal number\n",
      "billon - NOUN - 15308085513773655218 - noun, singular or mass\n",
      "dollar - NOUN - 15308085513773655218 - noun, singular or mass\n",
      "in - ADP - 1292078113972184607 - conjunction, subordinating or preposition\n",
      "ten - NUM - 8427216679587749980 - cardinal number\n",
      "days - NOUN - 783433942507015291 - noun, plural\n"
     ]
    }
   ],
   "source": [
    "for i in doc1:\n",
    "    print(i,'-', i.pos_, '-' ,i.tag,\"-\", spacy.explain(i.tag_))"
   ]
  },
  {
   "cell_type": "code",
   "execution_count": 20,
   "id": "0dcf0233",
   "metadata": {},
   "outputs": [
    {
     "name": "stdout",
     "output_type": "stream",
     "text": [
      "wow - INTJ - UH - interjection\n",
      "! - PUNCT - . - punctuation mark, sentence closer\n",
      "Dr. - PROPN - NNP - noun, proper singular\n",
      "Strange - PROPN - NNP - noun, proper singular\n",
      "movie - NOUN - NN - noun, singular or mass\n",
      "has - AUX - VBZ - verb, 3rd person singular present\n",
      "earned - VERB - VBN - verb, past participle\n",
      "$ - SYM - $ - symbol, currency\n",
      "45 - NUM - CD - cardinal number\n",
      "billon - NOUN - NN - noun, singular or mass\n",
      "dollar - NOUN - NN - noun, singular or mass\n",
      "in - ADP - IN - conjunction, subordinating or preposition\n",
      "ten - NUM - CD - cardinal number\n",
      "days - NOUN - NNS - noun, plural\n"
     ]
    }
   ],
   "source": [
    "for i in doc1:\n",
    "    print(i,'-', i.pos_, '-' ,i.tag_,\"-\", spacy.explain(i.tag_))"
   ]
  },
  {
   "cell_type": "code",
   "execution_count": 25,
   "id": "73bdc782",
   "metadata": {},
   "outputs": [],
   "source": [
    "final = []"
   ]
  },
  {
   "cell_type": "code",
   "execution_count": 26,
   "id": "de999403",
   "metadata": {},
   "outputs": [],
   "source": [
    "sent = \"\"\"Data science is the study of data to extract meaningful insights for business.\n",
    "        It is a multidisciplinary approach that combines principles and practices from the fields of mathematics, statistics, artificial intelligence, and computer engineering to analyze large amounts of data. \n",
    "        This analysis helps data scientists to ask and answer questions like what happened, why it happened, what will happen, and what can be done with the results.\"\"\""
   ]
  },
  {
   "cell_type": "code",
   "execution_count": 27,
   "id": "a37b5974",
   "metadata": {},
   "outputs": [],
   "source": [
    "doc = nlp(sent)"
   ]
  },
  {
   "cell_type": "code",
   "execution_count": 29,
   "id": "b48864d6",
   "metadata": {},
   "outputs": [],
   "source": [
    "for i in doc:\n",
    "    if i.pos_ == \"VERB\" or i.pos_ ==\"ADV\" or i.pos_ == \"ADJ\":\n",
    "        final.append(i)\n",
    "                                                          "
   ]
  },
  {
   "cell_type": "code",
   "execution_count": 30,
   "id": "728aef6b",
   "metadata": {},
   "outputs": [
    {
     "data": {
      "text/plain": [
       "[extract,\n",
       " meaningful,\n",
       " multidisciplinary,\n",
       " combines,\n",
       " artificial,\n",
       " analyze,\n",
       " large,\n",
       " helps,\n",
       " data,\n",
       " ask,\n",
       " answer,\n",
       " happened,\n",
       " happened,\n",
       " happen,\n",
       " done]"
      ]
     },
     "execution_count": 30,
     "metadata": {},
     "output_type": "execute_result"
    }
   ],
   "source": [
    "final"
   ]
  },
  {
   "cell_type": "raw",
   "id": "847e5e6d",
   "metadata": {},
   "source": [
    "NER - name Entity REcongination"
   ]
  },
  {
   "cell_type": "raw",
   "id": "fc1492c1",
   "metadata": {},
   "source": [
    "nort kayne west"
   ]
  },
  {
   "cell_type": "code",
   "execution_count": 31,
   "id": "18cfbc77",
   "metadata": {},
   "outputs": [],
   "source": [
    "doc = nlp(\"Tesla Inc is going to acqire Twitter for $455 Billion\")"
   ]
  },
  {
   "cell_type": "code",
   "execution_count": 32,
   "id": "08b34925",
   "metadata": {},
   "outputs": [
    {
     "data": {
      "text/plain": [
       "Tesla Inc"
      ]
     },
     "execution_count": 32,
     "metadata": {},
     "output_type": "execute_result"
    }
   ],
   "source": [
    "doc.ents[0]"
   ]
  },
  {
   "cell_type": "code",
   "execution_count": 33,
   "id": "179b458c",
   "metadata": {},
   "outputs": [
    {
     "data": {
      "text/plain": [
       "Twitter"
      ]
     },
     "execution_count": 33,
     "metadata": {},
     "output_type": "execute_result"
    }
   ],
   "source": [
    "doc.ents[1]"
   ]
  },
  {
   "cell_type": "code",
   "execution_count": 34,
   "id": "3a9d6a67",
   "metadata": {},
   "outputs": [
    {
     "data": {
      "text/plain": [
       "$455 Billion"
      ]
     },
     "execution_count": 34,
     "metadata": {},
     "output_type": "execute_result"
    }
   ],
   "source": [
    "doc.ents[2]"
   ]
  },
  {
   "cell_type": "code",
   "execution_count": 35,
   "id": "7eb066f0",
   "metadata": {},
   "outputs": [
    {
     "data": {
      "text/plain": [
       "spacy.tokens.span.Span"
      ]
     },
     "execution_count": 35,
     "metadata": {},
     "output_type": "execute_result"
    }
   ],
   "source": [
    "type(doc.ents[0])"
   ]
  },
  {
   "cell_type": "code",
   "execution_count": 36,
   "id": "c16c80c7",
   "metadata": {},
   "outputs": [
    {
     "data": {
      "text/plain": [
       "'$455 Billion'"
      ]
     },
     "execution_count": 36,
     "metadata": {},
     "output_type": "execute_result"
    }
   ],
   "source": [
    "doc.ents[2].text"
   ]
  },
  {
   "cell_type": "code",
   "execution_count": 37,
   "id": "30cd2388",
   "metadata": {},
   "outputs": [
    {
     "name": "stdout",
     "output_type": "stream",
     "text": [
      "Tesla Inc - ORG\n",
      "Twitter - PRODUCT\n",
      "$455 Billion - MONEY\n"
     ]
    }
   ],
   "source": [
    "for i in doc.ents:\n",
    "    print(i.text,\"-\",i.label_)"
   ]
  },
  {
   "cell_type": "code",
   "execution_count": 38,
   "id": "3dd0562b",
   "metadata": {},
   "outputs": [
    {
     "name": "stdout",
     "output_type": "stream",
     "text": [
      "Tesla Inc - ORG - Companies, agencies, institutions, etc.\n",
      "Twitter - PRODUCT - Objects, vehicles, foods, etc. (not services)\n",
      "$455 Billion - MONEY - Monetary values, including unit\n"
     ]
    }
   ],
   "source": [
    "for i in doc.ents:\n",
    "    print(i.text,\"-\",i.label_,\"-\", spacy.explain(i.label_))"
   ]
  },
  {
   "cell_type": "code",
   "execution_count": 40,
   "id": "e37ed8ed",
   "metadata": {},
   "outputs": [
    {
     "name": "stdout",
     "output_type": "stream",
     "text": [
      "Tesla Inc - ORG - Companies, agencies, institutions, etc. - 383\n",
      "Twitter - PRODUCT - Objects, vehicles, foods, etc. (not services) - 386\n",
      "$455 Billion - MONEY - Monetary values, including unit - 394\n"
     ]
    }
   ],
   "source": [
    "for i in doc.ents:\n",
    "    print(i.text,\"-\",i.label_,\"-\", spacy.explain(i.label_),\"-\",i.label)"
   ]
  },
  {
   "cell_type": "code",
   "execution_count": null,
   "id": "4cd87457",
   "metadata": {},
   "outputs": [],
   "source": []
  }
 ],
 "metadata": {
  "kernelspec": {
   "display_name": "Python 3 (ipykernel)",
   "language": "python",
   "name": "python3"
  },
  "language_info": {
   "codemirror_mode": {
    "name": "ipython",
    "version": 3
   },
   "file_extension": ".py",
   "mimetype": "text/x-python",
   "name": "python",
   "nbconvert_exporter": "python",
   "pygments_lexer": "ipython3",
   "version": "3.9.12"
  }
 },
 "nbformat": 4,
 "nbformat_minor": 5
}
