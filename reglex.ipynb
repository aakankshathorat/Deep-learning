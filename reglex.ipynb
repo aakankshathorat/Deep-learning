{
 "cells": [
  {
   "cell_type": "raw",
   "id": "1b3cc50c",
   "metadata": {},
   "source": [
    "1234567890\n",
    "+91 1234567890\n",
    "1234-567-908"
   ]
  },
  {
   "cell_type": "code",
   "execution_count": 44,
   "id": "a8d562c1",
   "metadata": {},
   "outputs": [],
   "source": [
    "import re"
   ]
  },
  {
   "cell_type": "code",
   "execution_count": 45,
   "id": "b768ed4d",
   "metadata": {},
   "outputs": [],
   "source": [
    "s =\"I am aakaksha my contact number is 1234567890 you contact me on this work is (1234)-456-7890\""
   ]
  },
  {
   "cell_type": "code",
   "execution_count": 46,
   "id": "abce544b",
   "metadata": {},
   "outputs": [],
   "source": [
    "pattern = \"\\d\\d\\d\\d\\d\\d\\d\\d\\d\\d\""
   ]
  },
  {
   "cell_type": "code",
   "execution_count": 47,
   "id": "54283e26",
   "metadata": {},
   "outputs": [
    {
     "data": {
      "text/plain": [
       "['1234567890']"
      ]
     },
     "execution_count": 47,
     "metadata": {},
     "output_type": "execute_result"
    }
   ],
   "source": [
    "re.findall(pattern, s)"
   ]
  },
  {
   "cell_type": "code",
   "execution_count": 48,
   "id": "a3c93f5a",
   "metadata": {},
   "outputs": [],
   "source": [
    "pattern =\" \\d{10}\""
   ]
  },
  {
   "cell_type": "code",
   "execution_count": 49,
   "id": "1159a792",
   "metadata": {},
   "outputs": [
    {
     "data": {
      "text/plain": [
       "[' 1234567890']"
      ]
     },
     "execution_count": 49,
     "metadata": {},
     "output_type": "execute_result"
    }
   ],
   "source": [
    "re.findall(pattern, s)"
   ]
  },
  {
   "cell_type": "code",
   "execution_count": 50,
   "id": "278f2ea6",
   "metadata": {},
   "outputs": [],
   "source": [
    "pattern= \"\\(\\d{4}\\)-\\d{3}-\\d{4}\""
   ]
  },
  {
   "cell_type": "code",
   "execution_count": 51,
   "id": "caf885db",
   "metadata": {},
   "outputs": [
    {
     "data": {
      "text/plain": [
       "['(1234)-456-7890']"
      ]
     },
     "execution_count": 51,
     "metadata": {},
     "output_type": "execute_result"
    }
   ],
   "source": [
    "re.findall(pattern,s)"
   ]
  },
  {
   "cell_type": "code",
   "execution_count": 52,
   "id": "125c7790",
   "metadata": {},
   "outputs": [],
   "source": [
    "pattern= \"\\(\\d{4}\\)-\\d{3}-\\d{4}|\\d{10}\""
   ]
  },
  {
   "cell_type": "code",
   "execution_count": 53,
   "id": "0e4bf725",
   "metadata": {},
   "outputs": [
    {
     "data": {
      "text/plain": [
       "['1234567890', '(1234)-456-7890']"
      ]
     },
     "execution_count": 53,
     "metadata": {},
     "output_type": "execute_result"
    }
   ],
   "source": [
    "re.findall(pattern,s)"
   ]
  },
  {
   "cell_type": "code",
   "execution_count": 54,
   "id": "a03aba80",
   "metadata": {},
   "outputs": [],
   "source": [
    "s = \"\"\"Note 1 - Overview\n",
    "Tesla,Inc. (\"Tesla\",the \"Company\",\"we\",\"us\",or \"our\")wsa incorporated in the State of Delaware on july 1,2023. We design, develop manufacture and sell high-performance fully\n",
    "Note 2 - Summary of Significant Accounting Policies\n",
    "unaudited Interim Financial Statements\n",
    "  The consolidated balance sheet as of September 30, 2021, the consolidated statements of operations, the consolidated statements of\n",
    "  commprehesive income, the consolidated statements of redeemable noncontrolling intersets and equity for the three andnine months ended \n",
    "  September 30,2021 and 2020\"\"\""
   ]
  },
  {
   "cell_type": "code",
   "execution_count": 55,
   "id": "bdd35b69",
   "metadata": {},
   "outputs": [],
   "source": [
    "p = \"Note \\d+ - ([^\\n]+)\""
   ]
  },
  {
   "cell_type": "code",
   "execution_count": 56,
   "id": "0e1e9d1d",
   "metadata": {},
   "outputs": [
    {
     "data": {
      "text/plain": [
       "['Overview', 'Summary of Significant Accounting Policies']"
      ]
     },
     "execution_count": 56,
     "metadata": {},
     "output_type": "execute_result"
    }
   ],
   "source": [
    "re.findall(p,s)"
   ]
  },
  {
   "cell_type": "code",
   "execution_count": 57,
   "id": "c3942d5e",
   "metadata": {},
   "outputs": [],
   "source": [
    "s = \"\"\"akshu's company has genrated $50 million profit in FY2023 Q1 while last year it was $222 billion in fy2022 Q3\"\"\""
   ]
  },
  {
   "cell_type": "code",
   "execution_count": 58,
   "id": "449ceed2",
   "metadata": {},
   "outputs": [],
   "source": [
    "p1 = \"FY\\d{4} Q\\d\""
   ]
  },
  {
   "cell_type": "code",
   "execution_count": 59,
   "id": "13107eae",
   "metadata": {},
   "outputs": [],
   "source": [
    "p2 = \"FY\\d{4} Q[1-4]\""
   ]
  },
  {
   "cell_type": "code",
   "execution_count": 60,
   "id": "ce0e61c9",
   "metadata": {},
   "outputs": [],
   "source": [
    "p3 = \"\\$\\d*\\w+\""
   ]
  },
  {
   "cell_type": "code",
   "execution_count": 61,
   "id": "34ec3f3d",
   "metadata": {},
   "outputs": [],
   "source": [
    "p4 = \"\\$[\\d\\.]+ \\w+\""
   ]
  },
  {
   "cell_type": "code",
   "execution_count": 62,
   "id": "3fb1d89a",
   "metadata": {},
   "outputs": [
    {
     "data": {
      "text/plain": [
       "['FY2023 Q1']"
      ]
     },
     "execution_count": 62,
     "metadata": {},
     "output_type": "execute_result"
    }
   ],
   "source": [
    "re.findall(p2,s)"
   ]
  },
  {
   "cell_type": "code",
   "execution_count": 63,
   "id": "ff3cde51",
   "metadata": {},
   "outputs": [
    {
     "data": {
      "text/plain": [
       "['$50', '$222']"
      ]
     },
     "execution_count": 63,
     "metadata": {},
     "output_type": "execute_result"
    }
   ],
   "source": [
    "re.findall(p3,s)"
   ]
  },
  {
   "cell_type": "code",
   "execution_count": 64,
   "id": "dd229c41",
   "metadata": {},
   "outputs": [
    {
     "data": {
      "text/plain": [
       "['$50 million', '$222 billion']"
      ]
     },
     "execution_count": 64,
     "metadata": {},
     "output_type": "execute_result"
    }
   ],
   "source": [
    "re.findall(p4,s)"
   ]
  },
  {
   "cell_type": "code",
   "execution_count": 65,
   "id": "c7e044a1",
   "metadata": {},
   "outputs": [
    {
     "data": {
      "text/plain": [
       "['FY2023 Q1']"
      ]
     },
     "execution_count": 65,
     "metadata": {},
     "output_type": "execute_result"
    }
   ],
   "source": [
    "re.findall(p1,s)"
   ]
  },
  {
   "cell_type": "code",
   "execution_count": null,
   "id": "6aa9537d",
   "metadata": {},
   "outputs": [],
   "source": []
  }
 ],
 "metadata": {
  "kernelspec": {
   "display_name": "Python 3 (ipykernel)",
   "language": "python",
   "name": "python3"
  },
  "language_info": {
   "codemirror_mode": {
    "name": "ipython",
    "version": 3
   },
   "file_extension": ".py",
   "mimetype": "text/x-python",
   "name": "python",
   "nbconvert_exporter": "python",
   "pygments_lexer": "ipython3",
   "version": "3.9.12"
  }
 },
 "nbformat": 4,
 "nbformat_minor": 5
}
